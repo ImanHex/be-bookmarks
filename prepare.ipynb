{
 "cells": [
  {
   "cell_type": "code",
   "execution_count": 2,
   "id": "initial_id",
   "metadata": {
    "collapsed": true,
    "ExecuteTime": {
     "end_time": "2024-03-18T03:55:23.772503Z",
     "start_time": "2024-03-18T03:55:23.762807Z"
    }
   },
   "outputs": [],
   "source": [
    "import pandas as pd "
   ]
  },
  {
   "cell_type": "code",
   "execution_count": 40,
   "outputs": [
    {
     "data": {
      "text/plain": "    RecipeId                                        Name  AuthorId  \\\n0         38           Low-Fat Berry Blue Frozen Dessert      1533   \n1         39                                     Biryani      1567   \n2         40                               Best Lemonade      1566   \n3         41              Carina's Tofu-Vegetable Kebabs      1586   \n4         42                                Cabbage Soup      1538   \n5         43                        Best Blackbottom Pie     34879   \n6         44                      Warm Chicken A La King      1596   \n7         45  Buttermilk Pie With Gingersnap Crumb Crust      1580   \n8         46                     A Jad - Cucumber Pickle      1533   \n9         47                        Butter Pecan Cookies      1573   \n10        48                            Boston Cream Pie      1545   \n11        49                    Chicken Breasts Lombardi    174711   \n12        50                           Biscotti Di Prato      1752   \n13        51                                    Chai Tea      1550   \n14        52                             Cafe Cappuccino      2178   \n15        53                       Jimmy G's Carrot Cake      1772   \n16        54                                 Carrot Cake      1535   \n17        55  Betty Crocker's Southwestern Guacamole Dip      1538   \n18        56                              Buttermilk Pie      1581   \n19        57                            Black Bean Salsa      1569   \n\n              AuthorName CookTime PrepTime TotalTime         DatePublished  \\\n0                 Dancer    PT24H    PT45M  PT24H45M  1999-08-09T21:46:00Z   \n1               elly9812    PT25M     PT4H   PT4H25M  1999-08-29T13:12:00Z   \n2         Stephen Little     PT5M    PT30M     PT35M  1999-09-05T19:52:00Z   \n3                Cyclopz    PT20M    PT24H  PT24H20M  1999-09-03T14:54:00Z   \n4              Duckie067    PT30M    PT20M     PT50M  1999-09-19T06:19:00Z   \n5   Barefoot Beachcomber     PT2H    PT20M   PT2H20M  1999-08-21T10:35:00Z   \n6          Joan Edington     PT3M    PT35M     PT38M  1999-09-17T04:47:00Z   \n7              tristitia    PT50M    PT30M   PT1H20M  1999-08-06T00:40:00Z   \n8                 Dancer      NaN    PT25M     PT25M  1999-08-11T19:48:00Z   \n9                 benluc     PT9M    PT55M    PT1H4M  1999-09-07T09:01:00Z   \n10         Nancy Van Ess      NaN  PT2H15M   PT2H15M  1999-08-24T04:35:00Z   \n11      Queen Dragon Mom    PT30M    PT45M   PT1H15M  1999-08-14T19:58:00Z   \n12              Bob Ross    PT50M    PT20M   PT1H10M  1999-08-31T21:19:00Z   \n13         Linda Sundbye    PT25M    PT15M     PT40M  1999-08-16T05:10:00Z   \n14                 troyh      NaN     PT5M      PT5M  1999-08-31T21:05:00Z   \n15              Jimg2040    PT45M   PT1H5M   PT1H50M  1999-09-08T15:39:00Z   \n16    Marg CaymanDesigns    PT50M    PT45M   PT1H35M  1999-09-13T15:20:00Z   \n17             Duckie067     PT2H     PT5M    PT2H5M  1999-09-15T03:25:00Z   \n18              thefensk     PT1H    PT20M   PT1H20M  1999-08-30T10:02:00Z   \n19                Linda7      NaN    PT10M     PT10M  1999-08-31T21:02:00Z   \n\n                                          Description  \\\n0   Make and share this Low-Fat Berry Blue Frozen ...   \n1   Make and share this Biryani recipe from Food.com.   \n2   This is from one of my  first Good House Keepi...   \n3   This dish is best prepared a day in advance to...   \n4   Make and share this Cabbage Soup recipe from F...   \n5   Make and share this Best Blackbottom Pie recip...   \n6   I copied this one out of a friend's book so ma...   \n7   Make and share this Buttermilk Pie With Ginger...   \n8   Make and share this A Jad - Cucumber Pickle re...   \n9   Make and share this Butter Pecan Cookies recip...   \n10  Make and share this Boston Cream Pie recipe fr...   \n11  Make and share this Chicken Breasts Lombardi r...   \n12  Make and share this Biscotti Di Prato recipe f...   \n13  Make and share this Chai Tea recipe from Food....   \n14  Make and share this Cafe Cappuccino recipe fro...   \n15  Make and share this Jimmy G's Carrot Cake reci...   \n16  This is one of the few recipes my husband ever...   \n17  Make and share this Betty Crocker's Southweste...   \n18  This recipe was originally noted by my wife on...   \n19  Make and share this Black Bean Salsa recipe fr...   \n\n                                               Images  ...  \\\n0   c(\"https://img.sndimg.com/food/image/upload/w_...  ...   \n1   c(\"https://img.sndimg.com/food/image/upload/w_...  ...   \n2   c(\"https://img.sndimg.com/food/image/upload/w_...  ...   \n3   c(\"https://img.sndimg.com/food/image/upload/w_...  ...   \n4   \"https://img.sndimg.com/food/image/upload/w_55...  ...   \n5                                        character(0)  ...   \n6   \"https://img.sndimg.com/food/image/upload/w_55...  ...   \n7   \"https://img.sndimg.com/food/image/upload/w_55...  ...   \n8                                        character(0)  ...   \n9   c(\"https://img.sndimg.com/food/image/upload/w_...  ...   \n10                                       character(0)  ...   \n11  c(\"https://img.sndimg.com/food/image/upload/w_...  ...   \n12  \"https://img.sndimg.com/food/image/upload/w_55...  ...   \n13                                       character(0)  ...   \n14  c(\"https://img.sndimg.com/food/image/upload/w_...  ...   \n15                                       character(0)  ...   \n16  c(\"https://img.sndimg.com/food/image/upload/w_...  ...   \n17  c(\"https://img.sndimg.com/food/image/upload/w_...  ...   \n18  c(\"https://img.sndimg.com/food/image/upload/w_...  ...   \n19                                       character(0)  ...   \n\n   SaturatedFatContent CholesterolContent SodiumContent CarbohydrateContent  \\\n0                  1.3                8.0          29.8                37.1   \n1                 16.6              372.8         368.4                84.4   \n2                  0.0                0.0           1.8                81.5   \n3                  3.8                0.0        1558.6                64.2   \n4                  0.1                0.0         959.3                25.1   \n5                 10.9               94.3         267.6                58.0   \n6                 31.9              405.8         557.2                29.1   \n7                  1.7               24.5         281.8                37.5   \n8                  0.0                0.0           0.7                 1.1   \n9                  1.4                6.3          15.0                 4.5   \n10                12.9              105.9         722.3                84.0   \n11                13.0              203.0         848.9                13.7   \n12                 0.3               16.6          23.5                14.5   \n13                 2.1               12.8          53.2                 6.0   \n14                 0.0                1.3          36.6                12.8   \n15                 3.2               62.0         190.0                66.2   \n16                 4.9               69.8         534.8                67.0   \n17                 5.4                0.0         310.6                24.9   \n18                 9.8              101.5         269.8                52.2   \n19                 0.5                0.0           3.7                15.6   \n\n    FiberContent  SugarContent  ProteinContent  RecipeServings   RecipeYield  \\\n0            3.6          30.2             3.2             4.0           NaN   \n1            9.0          20.4            63.4             6.0           NaN   \n2            0.4          77.2             0.3             4.0           NaN   \n3           17.3          32.1            29.3             2.0      4 kebabs   \n4            4.8          17.7             4.3             4.0           NaN   \n5            1.8          42.5             7.0             8.0  1 9-inch pie   \n6            3.1           5.0            45.3             2.0           NaN   \n7            0.5          24.7             4.2             8.0           NaN   \n8            0.2           0.2             0.1             NaN         1 cup   \n9            0.6           1.6             0.8             NaN    84 cookies   \n10           1.6          46.2             8.8             8.0         1 pie   \n11           0.6           2.0            57.9             6.0           NaN   \n12           0.8           7.3             2.3             NaN   56 biscotti   \n13           0.7           0.0             3.5             4.0           NaN   \n14           0.0          11.8             2.7            18.0    2 1/4 cups   \n15           3.4          40.9             6.6             NaN           NaN   \n16           1.6          47.9             5.0            12.0       1 bundt   \n17          17.3           2.8             5.5             4.0           NaN   \n18           0.7          39.9             5.0             8.0           NaN   \n19           5.5           1.4             5.4             8.0           NaN   \n\n                                   RecipeInstructions  \n0   c(\"Toss 2 cups berries with sugar.\", \"Let stan...  \n1   c(\"Soak saffron in warm milk for 5 minutes and...  \n2   c(\"Into a 1 quart Jar with tight fitting lid, ...  \n3   c(\"Drain the tofu, carefully squeezing out exc...  \n4   c(\"Mix everything together and bring to a boil...  \n5   c(\"Graham Cracker Crust: In small bowl, combin...  \n6   c(\"Melt 1 1/2 ozs butter, add the flour and co...  \n7   c(\"Preheat oven to 350°F.\", \"Make pie crust, u...  \n8   c(\"Slice the cucumber in four lengthwise, then...  \n9   c(\"Preheat oven to 350 degrees.\", \"Cream butte...  \n10  c(\"Beat egg whites until soft peaks form.\", \"G...  \n11  c(\"Cook mushrooms in 2 tbsp butter in a large ...  \n12  c(\"EGG WASH 1 Egg, large 1 tsp Water In the bo...  \n13  c(\"Bring water and spices to boil in saucepan....  \n14  c(\"Stir ingredients together.\", \"Process in a ...  \n15  c(\"Grease and lightly flour 2 9x1 1/2-inch rou...  \n16  c(\"Beat together the eggs, oil, and white suga...  \n17  c(\"Peel and mash avocados until lumpy.\", \"Add ...  \n18  c(\"Preheat oven to 400°F.\", \"Beat the butter a...  \n19  c(\"Combine all ingredients in a bowl.\", \"Serve...  \n\n[20 rows x 28 columns]",
      "text/html": "<div>\n<style scoped>\n    .dataframe tbody tr th:only-of-type {\n        vertical-align: middle;\n    }\n\n    .dataframe tbody tr th {\n        vertical-align: top;\n    }\n\n    .dataframe thead th {\n        text-align: right;\n    }\n</style>\n<table border=\"1\" class=\"dataframe\">\n  <thead>\n    <tr style=\"text-align: right;\">\n      <th></th>\n      <th>RecipeId</th>\n      <th>Name</th>\n      <th>AuthorId</th>\n      <th>AuthorName</th>\n      <th>CookTime</th>\n      <th>PrepTime</th>\n      <th>TotalTime</th>\n      <th>DatePublished</th>\n      <th>Description</th>\n      <th>Images</th>\n      <th>...</th>\n      <th>SaturatedFatContent</th>\n      <th>CholesterolContent</th>\n      <th>SodiumContent</th>\n      <th>CarbohydrateContent</th>\n      <th>FiberContent</th>\n      <th>SugarContent</th>\n      <th>ProteinContent</th>\n      <th>RecipeServings</th>\n      <th>RecipeYield</th>\n      <th>RecipeInstructions</th>\n    </tr>\n  </thead>\n  <tbody>\n    <tr>\n      <th>0</th>\n      <td>38</td>\n      <td>Low-Fat Berry Blue Frozen Dessert</td>\n      <td>1533</td>\n      <td>Dancer</td>\n      <td>PT24H</td>\n      <td>PT45M</td>\n      <td>PT24H45M</td>\n      <td>1999-08-09T21:46:00Z</td>\n      <td>Make and share this Low-Fat Berry Blue Frozen ...</td>\n      <td>c(\"https://img.sndimg.com/food/image/upload/w_...</td>\n      <td>...</td>\n      <td>1.3</td>\n      <td>8.0</td>\n      <td>29.8</td>\n      <td>37.1</td>\n      <td>3.6</td>\n      <td>30.2</td>\n      <td>3.2</td>\n      <td>4.0</td>\n      <td>NaN</td>\n      <td>c(\"Toss 2 cups berries with sugar.\", \"Let stan...</td>\n    </tr>\n    <tr>\n      <th>1</th>\n      <td>39</td>\n      <td>Biryani</td>\n      <td>1567</td>\n      <td>elly9812</td>\n      <td>PT25M</td>\n      <td>PT4H</td>\n      <td>PT4H25M</td>\n      <td>1999-08-29T13:12:00Z</td>\n      <td>Make and share this Biryani recipe from Food.com.</td>\n      <td>c(\"https://img.sndimg.com/food/image/upload/w_...</td>\n      <td>...</td>\n      <td>16.6</td>\n      <td>372.8</td>\n      <td>368.4</td>\n      <td>84.4</td>\n      <td>9.0</td>\n      <td>20.4</td>\n      <td>63.4</td>\n      <td>6.0</td>\n      <td>NaN</td>\n      <td>c(\"Soak saffron in warm milk for 5 minutes and...</td>\n    </tr>\n    <tr>\n      <th>2</th>\n      <td>40</td>\n      <td>Best Lemonade</td>\n      <td>1566</td>\n      <td>Stephen Little</td>\n      <td>PT5M</td>\n      <td>PT30M</td>\n      <td>PT35M</td>\n      <td>1999-09-05T19:52:00Z</td>\n      <td>This is from one of my  first Good House Keepi...</td>\n      <td>c(\"https://img.sndimg.com/food/image/upload/w_...</td>\n      <td>...</td>\n      <td>0.0</td>\n      <td>0.0</td>\n      <td>1.8</td>\n      <td>81.5</td>\n      <td>0.4</td>\n      <td>77.2</td>\n      <td>0.3</td>\n      <td>4.0</td>\n      <td>NaN</td>\n      <td>c(\"Into a 1 quart Jar with tight fitting lid, ...</td>\n    </tr>\n    <tr>\n      <th>3</th>\n      <td>41</td>\n      <td>Carina's Tofu-Vegetable Kebabs</td>\n      <td>1586</td>\n      <td>Cyclopz</td>\n      <td>PT20M</td>\n      <td>PT24H</td>\n      <td>PT24H20M</td>\n      <td>1999-09-03T14:54:00Z</td>\n      <td>This dish is best prepared a day in advance to...</td>\n      <td>c(\"https://img.sndimg.com/food/image/upload/w_...</td>\n      <td>...</td>\n      <td>3.8</td>\n      <td>0.0</td>\n      <td>1558.6</td>\n      <td>64.2</td>\n      <td>17.3</td>\n      <td>32.1</td>\n      <td>29.3</td>\n      <td>2.0</td>\n      <td>4 kebabs</td>\n      <td>c(\"Drain the tofu, carefully squeezing out exc...</td>\n    </tr>\n    <tr>\n      <th>4</th>\n      <td>42</td>\n      <td>Cabbage Soup</td>\n      <td>1538</td>\n      <td>Duckie067</td>\n      <td>PT30M</td>\n      <td>PT20M</td>\n      <td>PT50M</td>\n      <td>1999-09-19T06:19:00Z</td>\n      <td>Make and share this Cabbage Soup recipe from F...</td>\n      <td>\"https://img.sndimg.com/food/image/upload/w_55...</td>\n      <td>...</td>\n      <td>0.1</td>\n      <td>0.0</td>\n      <td>959.3</td>\n      <td>25.1</td>\n      <td>4.8</td>\n      <td>17.7</td>\n      <td>4.3</td>\n      <td>4.0</td>\n      <td>NaN</td>\n      <td>c(\"Mix everything together and bring to a boil...</td>\n    </tr>\n    <tr>\n      <th>5</th>\n      <td>43</td>\n      <td>Best Blackbottom Pie</td>\n      <td>34879</td>\n      <td>Barefoot Beachcomber</td>\n      <td>PT2H</td>\n      <td>PT20M</td>\n      <td>PT2H20M</td>\n      <td>1999-08-21T10:35:00Z</td>\n      <td>Make and share this Best Blackbottom Pie recip...</td>\n      <td>character(0)</td>\n      <td>...</td>\n      <td>10.9</td>\n      <td>94.3</td>\n      <td>267.6</td>\n      <td>58.0</td>\n      <td>1.8</td>\n      <td>42.5</td>\n      <td>7.0</td>\n      <td>8.0</td>\n      <td>1 9-inch pie</td>\n      <td>c(\"Graham Cracker Crust: In small bowl, combin...</td>\n    </tr>\n    <tr>\n      <th>6</th>\n      <td>44</td>\n      <td>Warm Chicken A La King</td>\n      <td>1596</td>\n      <td>Joan Edington</td>\n      <td>PT3M</td>\n      <td>PT35M</td>\n      <td>PT38M</td>\n      <td>1999-09-17T04:47:00Z</td>\n      <td>I copied this one out of a friend's book so ma...</td>\n      <td>\"https://img.sndimg.com/food/image/upload/w_55...</td>\n      <td>...</td>\n      <td>31.9</td>\n      <td>405.8</td>\n      <td>557.2</td>\n      <td>29.1</td>\n      <td>3.1</td>\n      <td>5.0</td>\n      <td>45.3</td>\n      <td>2.0</td>\n      <td>NaN</td>\n      <td>c(\"Melt 1 1/2 ozs butter, add the flour and co...</td>\n    </tr>\n    <tr>\n      <th>7</th>\n      <td>45</td>\n      <td>Buttermilk Pie With Gingersnap Crumb Crust</td>\n      <td>1580</td>\n      <td>tristitia</td>\n      <td>PT50M</td>\n      <td>PT30M</td>\n      <td>PT1H20M</td>\n      <td>1999-08-06T00:40:00Z</td>\n      <td>Make and share this Buttermilk Pie With Ginger...</td>\n      <td>\"https://img.sndimg.com/food/image/upload/w_55...</td>\n      <td>...</td>\n      <td>1.7</td>\n      <td>24.5</td>\n      <td>281.8</td>\n      <td>37.5</td>\n      <td>0.5</td>\n      <td>24.7</td>\n      <td>4.2</td>\n      <td>8.0</td>\n      <td>NaN</td>\n      <td>c(\"Preheat oven to 350°F.\", \"Make pie crust, u...</td>\n    </tr>\n    <tr>\n      <th>8</th>\n      <td>46</td>\n      <td>A Jad - Cucumber Pickle</td>\n      <td>1533</td>\n      <td>Dancer</td>\n      <td>NaN</td>\n      <td>PT25M</td>\n      <td>PT25M</td>\n      <td>1999-08-11T19:48:00Z</td>\n      <td>Make and share this A Jad - Cucumber Pickle re...</td>\n      <td>character(0)</td>\n      <td>...</td>\n      <td>0.0</td>\n      <td>0.0</td>\n      <td>0.7</td>\n      <td>1.1</td>\n      <td>0.2</td>\n      <td>0.2</td>\n      <td>0.1</td>\n      <td>NaN</td>\n      <td>1 cup</td>\n      <td>c(\"Slice the cucumber in four lengthwise, then...</td>\n    </tr>\n    <tr>\n      <th>9</th>\n      <td>47</td>\n      <td>Butter Pecan Cookies</td>\n      <td>1573</td>\n      <td>benluc</td>\n      <td>PT9M</td>\n      <td>PT55M</td>\n      <td>PT1H4M</td>\n      <td>1999-09-07T09:01:00Z</td>\n      <td>Make and share this Butter Pecan Cookies recip...</td>\n      <td>c(\"https://img.sndimg.com/food/image/upload/w_...</td>\n      <td>...</td>\n      <td>1.4</td>\n      <td>6.3</td>\n      <td>15.0</td>\n      <td>4.5</td>\n      <td>0.6</td>\n      <td>1.6</td>\n      <td>0.8</td>\n      <td>NaN</td>\n      <td>84 cookies</td>\n      <td>c(\"Preheat oven to 350 degrees.\", \"Cream butte...</td>\n    </tr>\n    <tr>\n      <th>10</th>\n      <td>48</td>\n      <td>Boston Cream Pie</td>\n      <td>1545</td>\n      <td>Nancy Van Ess</td>\n      <td>NaN</td>\n      <td>PT2H15M</td>\n      <td>PT2H15M</td>\n      <td>1999-08-24T04:35:00Z</td>\n      <td>Make and share this Boston Cream Pie recipe fr...</td>\n      <td>character(0)</td>\n      <td>...</td>\n      <td>12.9</td>\n      <td>105.9</td>\n      <td>722.3</td>\n      <td>84.0</td>\n      <td>1.6</td>\n      <td>46.2</td>\n      <td>8.8</td>\n      <td>8.0</td>\n      <td>1 pie</td>\n      <td>c(\"Beat egg whites until soft peaks form.\", \"G...</td>\n    </tr>\n    <tr>\n      <th>11</th>\n      <td>49</td>\n      <td>Chicken Breasts Lombardi</td>\n      <td>174711</td>\n      <td>Queen Dragon Mom</td>\n      <td>PT30M</td>\n      <td>PT45M</td>\n      <td>PT1H15M</td>\n      <td>1999-08-14T19:58:00Z</td>\n      <td>Make and share this Chicken Breasts Lombardi r...</td>\n      <td>c(\"https://img.sndimg.com/food/image/upload/w_...</td>\n      <td>...</td>\n      <td>13.0</td>\n      <td>203.0</td>\n      <td>848.9</td>\n      <td>13.7</td>\n      <td>0.6</td>\n      <td>2.0</td>\n      <td>57.9</td>\n      <td>6.0</td>\n      <td>NaN</td>\n      <td>c(\"Cook mushrooms in 2 tbsp butter in a large ...</td>\n    </tr>\n    <tr>\n      <th>12</th>\n      <td>50</td>\n      <td>Biscotti Di Prato</td>\n      <td>1752</td>\n      <td>Bob Ross</td>\n      <td>PT50M</td>\n      <td>PT20M</td>\n      <td>PT1H10M</td>\n      <td>1999-08-31T21:19:00Z</td>\n      <td>Make and share this Biscotti Di Prato recipe f...</td>\n      <td>\"https://img.sndimg.com/food/image/upload/w_55...</td>\n      <td>...</td>\n      <td>0.3</td>\n      <td>16.6</td>\n      <td>23.5</td>\n      <td>14.5</td>\n      <td>0.8</td>\n      <td>7.3</td>\n      <td>2.3</td>\n      <td>NaN</td>\n      <td>56 biscotti</td>\n      <td>c(\"EGG WASH 1 Egg, large 1 tsp Water In the bo...</td>\n    </tr>\n    <tr>\n      <th>13</th>\n      <td>51</td>\n      <td>Chai Tea</td>\n      <td>1550</td>\n      <td>Linda Sundbye</td>\n      <td>PT25M</td>\n      <td>PT15M</td>\n      <td>PT40M</td>\n      <td>1999-08-16T05:10:00Z</td>\n      <td>Make and share this Chai Tea recipe from Food....</td>\n      <td>character(0)</td>\n      <td>...</td>\n      <td>2.1</td>\n      <td>12.8</td>\n      <td>53.2</td>\n      <td>6.0</td>\n      <td>0.7</td>\n      <td>0.0</td>\n      <td>3.5</td>\n      <td>4.0</td>\n      <td>NaN</td>\n      <td>c(\"Bring water and spices to boil in saucepan....</td>\n    </tr>\n    <tr>\n      <th>14</th>\n      <td>52</td>\n      <td>Cafe Cappuccino</td>\n      <td>2178</td>\n      <td>troyh</td>\n      <td>NaN</td>\n      <td>PT5M</td>\n      <td>PT5M</td>\n      <td>1999-08-31T21:05:00Z</td>\n      <td>Make and share this Cafe Cappuccino recipe fro...</td>\n      <td>c(\"https://img.sndimg.com/food/image/upload/w_...</td>\n      <td>...</td>\n      <td>0.0</td>\n      <td>1.3</td>\n      <td>36.6</td>\n      <td>12.8</td>\n      <td>0.0</td>\n      <td>11.8</td>\n      <td>2.7</td>\n      <td>18.0</td>\n      <td>2 1/4 cups</td>\n      <td>c(\"Stir ingredients together.\", \"Process in a ...</td>\n    </tr>\n    <tr>\n      <th>15</th>\n      <td>53</td>\n      <td>Jimmy G's Carrot Cake</td>\n      <td>1772</td>\n      <td>Jimg2040</td>\n      <td>PT45M</td>\n      <td>PT1H5M</td>\n      <td>PT1H50M</td>\n      <td>1999-09-08T15:39:00Z</td>\n      <td>Make and share this Jimmy G's Carrot Cake reci...</td>\n      <td>character(0)</td>\n      <td>...</td>\n      <td>3.2</td>\n      <td>62.0</td>\n      <td>190.0</td>\n      <td>66.2</td>\n      <td>3.4</td>\n      <td>40.9</td>\n      <td>6.6</td>\n      <td>NaN</td>\n      <td>NaN</td>\n      <td>c(\"Grease and lightly flour 2 9x1 1/2-inch rou...</td>\n    </tr>\n    <tr>\n      <th>16</th>\n      <td>54</td>\n      <td>Carrot Cake</td>\n      <td>1535</td>\n      <td>Marg CaymanDesigns</td>\n      <td>PT50M</td>\n      <td>PT45M</td>\n      <td>PT1H35M</td>\n      <td>1999-09-13T15:20:00Z</td>\n      <td>This is one of the few recipes my husband ever...</td>\n      <td>c(\"https://img.sndimg.com/food/image/upload/w_...</td>\n      <td>...</td>\n      <td>4.9</td>\n      <td>69.8</td>\n      <td>534.8</td>\n      <td>67.0</td>\n      <td>1.6</td>\n      <td>47.9</td>\n      <td>5.0</td>\n      <td>12.0</td>\n      <td>1 bundt</td>\n      <td>c(\"Beat together the eggs, oil, and white suga...</td>\n    </tr>\n    <tr>\n      <th>17</th>\n      <td>55</td>\n      <td>Betty Crocker's Southwestern Guacamole Dip</td>\n      <td>1538</td>\n      <td>Duckie067</td>\n      <td>PT2H</td>\n      <td>PT5M</td>\n      <td>PT2H5M</td>\n      <td>1999-09-15T03:25:00Z</td>\n      <td>Make and share this Betty Crocker's Southweste...</td>\n      <td>c(\"https://img.sndimg.com/food/image/upload/w_...</td>\n      <td>...</td>\n      <td>5.4</td>\n      <td>0.0</td>\n      <td>310.6</td>\n      <td>24.9</td>\n      <td>17.3</td>\n      <td>2.8</td>\n      <td>5.5</td>\n      <td>4.0</td>\n      <td>NaN</td>\n      <td>c(\"Peel and mash avocados until lumpy.\", \"Add ...</td>\n    </tr>\n    <tr>\n      <th>18</th>\n      <td>56</td>\n      <td>Buttermilk Pie</td>\n      <td>1581</td>\n      <td>thefensk</td>\n      <td>PT1H</td>\n      <td>PT20M</td>\n      <td>PT1H20M</td>\n      <td>1999-08-30T10:02:00Z</td>\n      <td>This recipe was originally noted by my wife on...</td>\n      <td>c(\"https://img.sndimg.com/food/image/upload/w_...</td>\n      <td>...</td>\n      <td>9.8</td>\n      <td>101.5</td>\n      <td>269.8</td>\n      <td>52.2</td>\n      <td>0.7</td>\n      <td>39.9</td>\n      <td>5.0</td>\n      <td>8.0</td>\n      <td>NaN</td>\n      <td>c(\"Preheat oven to 400°F.\", \"Beat the butter a...</td>\n    </tr>\n    <tr>\n      <th>19</th>\n      <td>57</td>\n      <td>Black Bean Salsa</td>\n      <td>1569</td>\n      <td>Linda7</td>\n      <td>NaN</td>\n      <td>PT10M</td>\n      <td>PT10M</td>\n      <td>1999-08-31T21:02:00Z</td>\n      <td>Make and share this Black Bean Salsa recipe fr...</td>\n      <td>character(0)</td>\n      <td>...</td>\n      <td>0.5</td>\n      <td>0.0</td>\n      <td>3.7</td>\n      <td>15.6</td>\n      <td>5.5</td>\n      <td>1.4</td>\n      <td>5.4</td>\n      <td>8.0</td>\n      <td>NaN</td>\n      <td>c(\"Combine all ingredients in a bowl.\", \"Serve...</td>\n    </tr>\n  </tbody>\n</table>\n<p>20 rows × 28 columns</p>\n</div>"
     },
     "execution_count": 40,
     "metadata": {},
     "output_type": "execute_result"
    }
   ],
   "source": [
    "data = pd.read_csv('./assets/recipes.csv')\n",
    "description = data.iloc[:20]\n",
    "description"
   ],
   "metadata": {
    "collapsed": false,
    "ExecuteTime": {
     "end_time": "2024-03-12T15:08:03.286962Z",
     "start_time": "2024-03-12T15:07:55.794206Z"
    }
   },
   "id": "ef1b306c08929bf8"
  },
  {
   "cell_type": "code",
   "execution_count": 41,
   "outputs": [
    {
     "data": {
      "text/plain": "Index(['RecipeId', 'Name', 'AuthorId', 'AuthorName', 'CookTime', 'PrepTime',\n       'TotalTime', 'DatePublished', 'Description', 'Images', 'RecipeCategory',\n       'Keywords', 'RecipeIngredientQuantities', 'RecipeIngredientParts',\n       'AggregatedRating', 'ReviewCount', 'Calories', 'FatContent',\n       'SaturatedFatContent', 'CholesterolContent', 'SodiumContent',\n       'CarbohydrateContent', 'FiberContent', 'SugarContent', 'ProteinContent',\n       'RecipeServings', 'RecipeYield', 'RecipeInstructions'],\n      dtype='object')"
     },
     "execution_count": 41,
     "metadata": {},
     "output_type": "execute_result"
    }
   ],
   "source": [
    "description.columns"
   ],
   "metadata": {
    "collapsed": false,
    "ExecuteTime": {
     "end_time": "2024-03-12T15:08:03.288011Z",
     "start_time": "2024-03-12T15:08:03.282916Z"
    }
   },
   "id": "65c5d7eefcd29b80"
  },
  {
   "cell_type": "code",
   "execution_count": 4,
   "outputs": [],
   "source": [
    "def get_and_clean_data(data):\n",
    "    description = data.drop(\n",
    "                        columns=['RecipeId', 'AuthorId', 'Keywords','AuthorName', 'CookTime', 'PrepTime','TotalTime', 'DatePublished','Images',\n",
    "                                 'RecipeIngredientQuantities','AggregatedRating','ReviewCount','Calories',\n",
    "                                 'FatContent','SaturatedFatContent','CholesterolContent','SodiumContent','CarbohydrateContent',\n",
    "                                 'FiberContent','SugarContent','ProteinContent','RecipeServings', 'RecipeYield','Description','RecipeCategory'])\n",
    "\n",
    "    print(\"Uses Column\",description.columns)\n",
    "    \n",
    "    description['RecipeInstructions'] = description['RecipeInstructions'].apply(lambda s: s.lstrip('c'))\n",
    "    description['RecipeIngredientParts'] = description['RecipeIngredientParts'].apply(lambda s: s.lstrip('c'))\n",
    "    \n",
    "    description['Merged'] = description.apply(lambda row: ' '.join(row.values.astype(str)), axis=1)\n",
    "    description['Merged'].fillna('No Data Provided', inplace=True)\n",
    "\n",
    "\n",
    "    description['Merged'] = description['Merged'].apply(lambda s: s.translate(str.maketrans('', '', string.punctuation + u'\\xa0')).lower().translate(str.maketrans(string.whitespace, ' ' * len(string.whitespace), '')))\n",
    "\n",
    "    description['Merged'] = description['Merged'].drop_duplicates().copy() # remove duplicate row\n",
    "    print(\"cleaned data success\")\n",
    "\n",
    "    return description['Merged']\n",
    "\n",
    "cleaned_description = get_and_clean_data(description)"
   ],
   "metadata": {
    "collapsed": false,
    "ExecuteTime": {
     "end_time": "2024-03-14T18:10:25.713791Z",
     "start_time": "2024-03-14T18:10:25.705319Z"
    }
   },
   "id": "d0db6cc75cc2662b"
  },
  {
   "cell_type": "code",
   "execution_count": 43,
   "outputs": [
    {
     "data": {
      "text/plain": "0     lowfat berry blue frozen dessert blueberries g...\n1     biryani saffron milk hot green chili peppers o...\n2     best lemonade sugar lemons rind of lemon zest ...\n3     carinas tofuvegetable kebabs extra firm tofu e...\n4     cabbage soup plain tomato juice cabbage onion ...\n5     best blackbottom pie graham cracker crumbs sug...\n6     warm chicken a la king chicken butter flour mi...\n7     buttermilk pie with gingersnap crumb crust sug...\n8     a jad  cucumber pickle rice vinegar haeo slice...\n9     butter pecan cookies butter brown sugar granul...\n10    boston cream pie margarine cake flour baking p...\n11    chicken breasts lombardi fresh mushrooms butte...\n12    biscotti di prato flour sugar baking powder sa...\n13    chai tea water black tea cinnamon stick milk s...\n14    cafe cappuccino instant coffee sugar nonfat dr...\n15    jimmy gs carrot cake allpurpose flour sugar ba...\n16    carrot cake carrots eggs white sugar allpurpos...\n17    betty crockers southwestern guacamole dip avoc...\n18    buttermilk pie butter margarine sugar flour eg...\n19    black bean salsa black beans tomatoes roma tom...\nName: Merged, dtype: object"
     },
     "execution_count": 43,
     "metadata": {},
     "output_type": "execute_result"
    }
   ],
   "source": [
    "cleaned_description "
   ],
   "metadata": {
    "collapsed": false,
    "ExecuteTime": {
     "end_time": "2024-03-12T15:08:03.357810Z",
     "start_time": "2024-03-12T15:08:03.305952Z"
    }
   },
   "id": "a65d57577d2aefe8"
  },
  {
   "cell_type": "code",
   "execution_count": 44,
   "outputs": [],
   "source": [
    "from nltk.corpus import stopwords\n",
    "from nltk import PorterStemmer, word_tokenize\n",
    "\n",
    "def preProcess(s):\n",
    "    ps = PorterStemmer()\n",
    "    s = word_tokenize(s)\n",
    "    stopwords_set = set(stopwords.words())\n",
    "    s = [w for w in s if w not in stopwords_set]\n",
    "    s = [ps.stem(w) for w in s]\n",
    "    s = ' '.join(s)\n",
    "    return s"
   ],
   "metadata": {
    "collapsed": false,
    "ExecuteTime": {
     "end_time": "2024-03-12T15:08:03.358152Z",
     "start_time": "2024-03-12T15:08:03.313048Z"
    }
   },
   "id": "7171b967e257f959"
  },
  {
   "cell_type": "code",
   "execution_count": 45,
   "outputs": [
    {
     "data": {
      "text/plain": "0     lowfat berri blue frozen dessert blueberri gra...\n1     biryani saffron milk hot green chili pepper on...\n2     lemonad sugar lemon rind lemon zest fresh wate...\n3     carina tofuveget kebab extra firm tofu eggplan...\n4     cabbag soup plain tomato juic cabbag onion car...\n5     blackbottom pie graham cracker crumb sugar but...\n6     warm chicken king chicken butter flour milk ce...\n7     buttermilk pie gingersnap crumb crust sugar ma...\n8     jad cucumb pickl rice vinegar haeo slice cucum...\n9     butter pecan cooki butter brown sugar granul s...\n10    boston cream pie margarin cake flour bake powd...\n11    chicken breast lombardi fresh mushroom butter ...\n12    biscotti prato flour sugar bake powder salt eg...\n13    chai tea water black tea cinnamon stick milk s...\n14    cafe cappuccino instant coffe sugar nonfat dri...\n15    jimmi gs carrot cake allpurpos flour sugar bak...\n16    carrot cake carrot egg white sugar allpurpos f...\n17    betti crocker southwestern guacamol dip avocad...\n18    buttermilk pie butter margarin sugar flour egg...\n19    black bean salsa black bean tomato roma tomato...\nName: Merged, dtype: object"
     },
     "execution_count": 45,
     "metadata": {},
     "output_type": "execute_result"
    }
   ],
   "source": [
    "cleaned_description_stem= cleaned_description.apply(preProcess)\n",
    "cleaned_description_stem"
   ],
   "metadata": {
    "collapsed": false,
    "ExecuteTime": {
     "end_time": "2024-03-12T15:08:03.470311Z",
     "start_time": "2024-03-12T15:08:03.329551Z"
    }
   },
   "id": "cc96a6a0f40f0c20"
  },
  {
   "cell_type": "code",
   "execution_count": 46,
   "outputs": [],
   "source": [
    "import numpy as np\n",
    "from scipy import sparse\n",
    "from sklearn.feature_extraction.text import TfidfVectorizer\n",
    "\n",
    "\n",
    "class CustomBM25:\n",
    "    def __init__(self, vectorizer, b=0.75, k1=1.6):\n",
    "        self.vectorizer = vectorizer\n",
    "        self.b = b\n",
    "        self.k1 = k1\n",
    "\n",
    "    def fit(self, X):\n",
    "        self.vectorizer.fit(X)\n",
    "        self.y = super(TfidfVectorizer, self.vectorizer).transform(X)\n",
    "        self.avdl = self.y.sum(1).mean()\n",
    "\n",
    "    def transform(self, q):\n",
    "        b, k1, avdl = self.b, self.k1, self.avdl\n",
    "        len_y = self.y.sum(1).A1\n",
    "        q, = super(TfidfVectorizer, self.vectorizer).transform([q])\n",
    "        assert sparse.isspmatrix_csr(q)\n",
    "        # convert to csc for better column slicing\n",
    "        y = self.y.tocsc()[:, q.indices]\n",
    "        denom = y + (k1 * (1 - b + b * len_y / avdl))[:, None]\n",
    "        idf = self.vectorizer._tfidf.idf_[None, q.indices] - 1.\n",
    "        numer = y.multiply(np.broadcast_to(idf, y.shape)) * (k1 + 1)\n",
    "        return (numer/denom).sum(1).A1"
   ],
   "metadata": {
    "collapsed": false,
    "ExecuteTime": {
     "end_time": "2024-03-12T15:08:03.470730Z",
     "start_time": "2024-03-12T15:08:03.434494Z"
    }
   },
   "id": "15f2de89abde9e7c"
  },
  {
   "cell_type": "code",
   "execution_count": 47,
   "outputs": [],
   "source": [
    "tfidf_vectorizer = TfidfVectorizer()\n",
    "bm25 = CustomBM25(tfidf_vectorizer)\n",
    "bm25.fit(cleaned_description_stem)"
   ],
   "metadata": {
    "collapsed": false,
    "ExecuteTime": {
     "end_time": "2024-03-12T15:08:03.470855Z",
     "start_time": "2024-03-12T15:08:03.446253Z"
    }
   },
   "id": "77a00041915389ee"
  },
  {
   "cell_type": "code",
   "execution_count": 48,
   "outputs": [],
   "source": [
    "import re\n",
    "def preprocess_query(query):\n",
    "    query = query.lower()\n",
    "    words = re.findall(r'\\b\\w+\\b', query)\n",
    "    stemmer = PorterStemmer()\n",
    "    stemmed_words = [stemmer.stem(word) for word in words]\n",
    "    return \" \".join(stemmed_words)"
   ],
   "metadata": {
    "collapsed": false,
    "ExecuteTime": {
     "end_time": "2024-03-12T15:08:03.473109Z",
     "start_time": "2024-03-12T15:08:03.460165Z"
    }
   },
   "id": "752f745bf66a4996"
  },
  {
   "cell_type": "code",
   "execution_count": 49,
   "outputs": [
    {
     "name": "stdout",
     "output_type": "stream",
     "text": [
      "index : [ 0 17 16 15 14 13 12 11 10  9]  score:  [6.09753499 0.         0.         0.         0.         0.\n",
      " 0.         0.         0.         0.         0.         0.\n",
      " 0.         0.         0.         0.         0.         0.\n",
      " 0.         0.        ] \n"
     ]
    }
   ],
   "source": [
    "query_example = \"Berry Dessert\"\n",
    "query = preprocess_query(query_example)\n",
    "scores = bm25.transform(query)\n",
    "top_10_indices = np.argsort(-scores)[:10]\n",
    "print('index :',top_10_indices, ' score: ',scores,'\\n')"
   ],
   "metadata": {
    "collapsed": false,
    "ExecuteTime": {
     "end_time": "2024-03-12T15:08:03.475716Z",
     "start_time": "2024-03-12T15:08:03.463068Z"
    }
   },
   "id": "153e6912dd341e08"
  },
  {
   "cell_type": "markdown",
   "source": [
    "** create data file for return **"
   ],
   "metadata": {
    "collapsed": false
   },
   "id": "f43b014af46d2a52"
  },
  {
   "cell_type": "code",
   "execution_count": 15,
   "outputs": [
    {
     "name": "stdout",
     "output_type": "stream",
     "text": [
      "(522517, 28)\n"
     ]
    }
   ],
   "source": [
    "cleaned_data = pd.read_csv('./assets/recipes.csv')\n",
    "print(cleaned_data.shape)"
   ],
   "metadata": {
    "collapsed": false,
    "ExecuteTime": {
     "end_time": "2024-03-18T04:04:40.631144Z",
     "start_time": "2024-03-18T04:04:33.997834Z"
    }
   },
   "id": "d84cbc55ccadad66"
  },
  {
   "cell_type": "code",
   "execution_count": 16,
   "outputs": [
    {
     "data": {
      "text/plain": "        RecipeId                                  Name  AuthorId  \\\n3             41        Carina's Tofu-Vegetable Kebabs      1586   \n5             43                  Best Blackbottom Pie     34879   \n16            54                           Carrot Cake      1535   \n26            64                     Almond Pound Cake    125579   \n54            94                 Blueberry Buttertarts      1556   \n...          ...                                   ...       ...   \n520596    539304  Pork Tenderloin With Bacon-Onion Jam    400708   \n520760    539476   Thai Basil Chicken (Gai Pad Krapow)   1248549   \n521132    539867         Green Enchiladas Chicken Soup     65308   \n521418    540238                Keto King's Best Bread   1249567   \n522039    540899           Butter Pecan Banana Muffins   1827868   \n\n                  AuthorName CookTime PrepTime TotalTime  \\\n3                    Cyclopz    PT20M    PT24H  PT24H20M   \n5       Barefoot Beachcomber     PT2H    PT20M   PT2H20M   \n16        Marg CaymanDesigns    PT50M    PT45M   PT1H35M   \n26          GrandmaIsCooking     PT1H    PT15M   PT1H15M   \n54           Strawberry Girl    PT25M    PT15M     PT40M   \n...                      ...      ...      ...       ...   \n520596            Bonnie G 2     PT1H    PT20M   PT1H20M   \n520760       StrawberryAnnie     PT7M     PT3M     PT10M   \n521132            agileangus     PT8H    PT10M   PT8H10M   \n521418   Retired Greyhound M    PT25M     PT3H   PT3H25M   \n522039                 jarp4    PT18M    PT10M     PT28M   \n\n               DatePublished  \\\n3       1999-09-03T14:54:00Z   \n5       1999-08-21T10:35:00Z   \n16      1999-09-13T15:20:00Z   \n26      1999-08-07T16:33:00Z   \n54      1999-09-12T05:46:00Z   \n...                      ...   \n520596  2019-09-23T13:04:00Z   \n520760  2019-11-07T14:45:00Z   \n521132  2020-02-20T20:11:00Z   \n521418  2020-05-01T21:39:00Z   \n522039  2020-09-01T20:59:00Z   \n\n                                              Description  \\\n3       This dish is best prepared a day in advance to...   \n5       Make and share this Best Blackbottom Pie recip...   \n16      This is one of the few recipes my husband ever...   \n26      Make and share this Almond Pound Cake recipe f...   \n54      Make and share this Blueberry Buttertarts reci...   \n...                                                   ...   \n520596  Saw this on foodnetwork.com and knew I had to ...   \n520760  Make and share this Thai Basil Chicken (Gai Pa...   \n521132  Make and share this Green Enchiladas Chicken S...   \n521418  Make and share this Keto King's Best Bread rec...   \n522039  Make and share this Butter Pecan Banana Muffin...   \n\n                                                   Images  ...  \\\n3       https://img.sndimg.com/food/image/upload/w_555...  ...   \n5                                         No Data Provide  ...   \n16      https://img.sndimg.com/food/image/upload/w_555...  ...   \n26                                        No Data Provide  ...   \n54                                        No Data Provide  ...   \n...                                                   ...  ...   \n520596  https://img.sndimg.com/food/image/upload/w_555...  ...   \n520760                                    No Data Provide  ...   \n521132                                    No Data Provide  ...   \n521418  https://img.sndimg.com/food/image/upload/w_555...  ...   \n522039                                    No Data Provide  ...   \n\n       SaturatedFatContent CholesterolContent SodiumContent  \\\n3                      3.8                0.0        1558.6   \n5                     10.9               94.3         267.6   \n16                     4.9               69.8         534.8   \n26                     9.0              118.9         159.4   \n54                     4.7               17.6         125.7   \n...                    ...                ...           ...   \n520596                10.9              120.6         836.2   \n520760                 4.0               97.5         935.6   \n521132                15.0              190.3        1852.2   \n521418                 1.3               27.1         169.1   \n522039                 1.7               17.2         253.0   \n\n       CarbohydrateContent  FiberContent  SugarContent  ProteinContent  \\\n3                     64.2          17.3          32.1            29.3   \n5                     58.0           1.8          42.5             7.0   \n16                    67.0           1.6          47.9             5.0   \n26                    56.0           1.3          29.0             6.9   \n54                    40.2           1.2          11.5             4.2   \n...                    ...           ...           ...             ...   \n520596                22.3           0.8          19.4            33.2   \n520760                 9.8           0.7           4.3            22.6   \n521132                12.8           0.0          10.8            54.2   \n521418                 2.1           1.5           0.5             2.0   \n522039                28.9           1.6          15.8             3.3   \n\n        RecipeServings   RecipeYield  \\\n3                  2.0      4 kebabs   \n5                  8.0  1 9-inch pie   \n16                12.0       1 bundt   \n26                10.0        1 cake   \n54                12.0      12 tarts   \n...                ...           ...   \n520596             4.0  1 tenderloin   \n520760             4.0             4   \n521132             6.0       12 Cups   \n521418            16.0        1 Loaf   \n522039            12.0    12 Muffins   \n\n                                       RecipeInstructions  \n3       c(\"Drain the tofu, carefully squeezing out exc...  \n5       c(\"Graham Cracker Crust: In small bowl, combin...  \n16      c(\"Beat together the eggs, oil, and white suga...  \n26      c(\"Preheat oven to 350 degrees Fahrenheit.\", \"...  \n54      c(\"Preheat oven to 375F.\", \"Leave shells in fo...  \n...                                                   ...  \n520596  c(\"For the bacon-onion jam: Heat the oil in a ...  \n520760  c(\"In a wok over high heat, add the oil, chili...  \n521132  c(\"In a 6 quart slow cooker add chicken breast...  \n521418  c(\"Combine yeast, honey and warm water.\", \"All...  \n522039  c(\"Heat oven to 375 degrees. Coat a standard 1...  \n\n[28014 rows x 28 columns]",
      "text/html": "<div>\n<style scoped>\n    .dataframe tbody tr th:only-of-type {\n        vertical-align: middle;\n    }\n\n    .dataframe tbody tr th {\n        vertical-align: top;\n    }\n\n    .dataframe thead th {\n        text-align: right;\n    }\n</style>\n<table border=\"1\" class=\"dataframe\">\n  <thead>\n    <tr style=\"text-align: right;\">\n      <th></th>\n      <th>RecipeId</th>\n      <th>Name</th>\n      <th>AuthorId</th>\n      <th>AuthorName</th>\n      <th>CookTime</th>\n      <th>PrepTime</th>\n      <th>TotalTime</th>\n      <th>DatePublished</th>\n      <th>Description</th>\n      <th>Images</th>\n      <th>...</th>\n      <th>SaturatedFatContent</th>\n      <th>CholesterolContent</th>\n      <th>SodiumContent</th>\n      <th>CarbohydrateContent</th>\n      <th>FiberContent</th>\n      <th>SugarContent</th>\n      <th>ProteinContent</th>\n      <th>RecipeServings</th>\n      <th>RecipeYield</th>\n      <th>RecipeInstructions</th>\n    </tr>\n  </thead>\n  <tbody>\n    <tr>\n      <th>3</th>\n      <td>41</td>\n      <td>Carina's Tofu-Vegetable Kebabs</td>\n      <td>1586</td>\n      <td>Cyclopz</td>\n      <td>PT20M</td>\n      <td>PT24H</td>\n      <td>PT24H20M</td>\n      <td>1999-09-03T14:54:00Z</td>\n      <td>This dish is best prepared a day in advance to...</td>\n      <td>https://img.sndimg.com/food/image/upload/w_555...</td>\n      <td>...</td>\n      <td>3.8</td>\n      <td>0.0</td>\n      <td>1558.6</td>\n      <td>64.2</td>\n      <td>17.3</td>\n      <td>32.1</td>\n      <td>29.3</td>\n      <td>2.0</td>\n      <td>4 kebabs</td>\n      <td>c(\"Drain the tofu, carefully squeezing out exc...</td>\n    </tr>\n    <tr>\n      <th>5</th>\n      <td>43</td>\n      <td>Best Blackbottom Pie</td>\n      <td>34879</td>\n      <td>Barefoot Beachcomber</td>\n      <td>PT2H</td>\n      <td>PT20M</td>\n      <td>PT2H20M</td>\n      <td>1999-08-21T10:35:00Z</td>\n      <td>Make and share this Best Blackbottom Pie recip...</td>\n      <td>No Data Provide</td>\n      <td>...</td>\n      <td>10.9</td>\n      <td>94.3</td>\n      <td>267.6</td>\n      <td>58.0</td>\n      <td>1.8</td>\n      <td>42.5</td>\n      <td>7.0</td>\n      <td>8.0</td>\n      <td>1 9-inch pie</td>\n      <td>c(\"Graham Cracker Crust: In small bowl, combin...</td>\n    </tr>\n    <tr>\n      <th>16</th>\n      <td>54</td>\n      <td>Carrot Cake</td>\n      <td>1535</td>\n      <td>Marg CaymanDesigns</td>\n      <td>PT50M</td>\n      <td>PT45M</td>\n      <td>PT1H35M</td>\n      <td>1999-09-13T15:20:00Z</td>\n      <td>This is one of the few recipes my husband ever...</td>\n      <td>https://img.sndimg.com/food/image/upload/w_555...</td>\n      <td>...</td>\n      <td>4.9</td>\n      <td>69.8</td>\n      <td>534.8</td>\n      <td>67.0</td>\n      <td>1.6</td>\n      <td>47.9</td>\n      <td>5.0</td>\n      <td>12.0</td>\n      <td>1 bundt</td>\n      <td>c(\"Beat together the eggs, oil, and white suga...</td>\n    </tr>\n    <tr>\n      <th>26</th>\n      <td>64</td>\n      <td>Almond Pound Cake</td>\n      <td>125579</td>\n      <td>GrandmaIsCooking</td>\n      <td>PT1H</td>\n      <td>PT15M</td>\n      <td>PT1H15M</td>\n      <td>1999-08-07T16:33:00Z</td>\n      <td>Make and share this Almond Pound Cake recipe f...</td>\n      <td>No Data Provide</td>\n      <td>...</td>\n      <td>9.0</td>\n      <td>118.9</td>\n      <td>159.4</td>\n      <td>56.0</td>\n      <td>1.3</td>\n      <td>29.0</td>\n      <td>6.9</td>\n      <td>10.0</td>\n      <td>1 cake</td>\n      <td>c(\"Preheat oven to 350 degrees Fahrenheit.\", \"...</td>\n    </tr>\n    <tr>\n      <th>54</th>\n      <td>94</td>\n      <td>Blueberry Buttertarts</td>\n      <td>1556</td>\n      <td>Strawberry Girl</td>\n      <td>PT25M</td>\n      <td>PT15M</td>\n      <td>PT40M</td>\n      <td>1999-09-12T05:46:00Z</td>\n      <td>Make and share this Blueberry Buttertarts reci...</td>\n      <td>No Data Provide</td>\n      <td>...</td>\n      <td>4.7</td>\n      <td>17.6</td>\n      <td>125.7</td>\n      <td>40.2</td>\n      <td>1.2</td>\n      <td>11.5</td>\n      <td>4.2</td>\n      <td>12.0</td>\n      <td>12 tarts</td>\n      <td>c(\"Preheat oven to 375F.\", \"Leave shells in fo...</td>\n    </tr>\n    <tr>\n      <th>...</th>\n      <td>...</td>\n      <td>...</td>\n      <td>...</td>\n      <td>...</td>\n      <td>...</td>\n      <td>...</td>\n      <td>...</td>\n      <td>...</td>\n      <td>...</td>\n      <td>...</td>\n      <td>...</td>\n      <td>...</td>\n      <td>...</td>\n      <td>...</td>\n      <td>...</td>\n      <td>...</td>\n      <td>...</td>\n      <td>...</td>\n      <td>...</td>\n      <td>...</td>\n      <td>...</td>\n    </tr>\n    <tr>\n      <th>520596</th>\n      <td>539304</td>\n      <td>Pork Tenderloin With Bacon-Onion Jam</td>\n      <td>400708</td>\n      <td>Bonnie G 2</td>\n      <td>PT1H</td>\n      <td>PT20M</td>\n      <td>PT1H20M</td>\n      <td>2019-09-23T13:04:00Z</td>\n      <td>Saw this on foodnetwork.com and knew I had to ...</td>\n      <td>https://img.sndimg.com/food/image/upload/w_555...</td>\n      <td>...</td>\n      <td>10.9</td>\n      <td>120.6</td>\n      <td>836.2</td>\n      <td>22.3</td>\n      <td>0.8</td>\n      <td>19.4</td>\n      <td>33.2</td>\n      <td>4.0</td>\n      <td>1 tenderloin</td>\n      <td>c(\"For the bacon-onion jam: Heat the oil in a ...</td>\n    </tr>\n    <tr>\n      <th>520760</th>\n      <td>539476</td>\n      <td>Thai Basil Chicken (Gai Pad Krapow)</td>\n      <td>1248549</td>\n      <td>StrawberryAnnie</td>\n      <td>PT7M</td>\n      <td>PT3M</td>\n      <td>PT10M</td>\n      <td>2019-11-07T14:45:00Z</td>\n      <td>Make and share this Thai Basil Chicken (Gai Pa...</td>\n      <td>No Data Provide</td>\n      <td>...</td>\n      <td>4.0</td>\n      <td>97.5</td>\n      <td>935.6</td>\n      <td>9.8</td>\n      <td>0.7</td>\n      <td>4.3</td>\n      <td>22.6</td>\n      <td>4.0</td>\n      <td>4</td>\n      <td>c(\"In a wok over high heat, add the oil, chili...</td>\n    </tr>\n    <tr>\n      <th>521132</th>\n      <td>539867</td>\n      <td>Green Enchiladas Chicken Soup</td>\n      <td>65308</td>\n      <td>agileangus</td>\n      <td>PT8H</td>\n      <td>PT10M</td>\n      <td>PT8H10M</td>\n      <td>2020-02-20T20:11:00Z</td>\n      <td>Make and share this Green Enchiladas Chicken S...</td>\n      <td>No Data Provide</td>\n      <td>...</td>\n      <td>15.0</td>\n      <td>190.3</td>\n      <td>1852.2</td>\n      <td>12.8</td>\n      <td>0.0</td>\n      <td>10.8</td>\n      <td>54.2</td>\n      <td>6.0</td>\n      <td>12 Cups</td>\n      <td>c(\"In a 6 quart slow cooker add chicken breast...</td>\n    </tr>\n    <tr>\n      <th>521418</th>\n      <td>540238</td>\n      <td>Keto King's Best Bread</td>\n      <td>1249567</td>\n      <td>Retired Greyhound M</td>\n      <td>PT25M</td>\n      <td>PT3H</td>\n      <td>PT3H25M</td>\n      <td>2020-05-01T21:39:00Z</td>\n      <td>Make and share this Keto King's Best Bread rec...</td>\n      <td>https://img.sndimg.com/food/image/upload/w_555...</td>\n      <td>...</td>\n      <td>1.3</td>\n      <td>27.1</td>\n      <td>169.1</td>\n      <td>2.1</td>\n      <td>1.5</td>\n      <td>0.5</td>\n      <td>2.0</td>\n      <td>16.0</td>\n      <td>1 Loaf</td>\n      <td>c(\"Combine yeast, honey and warm water.\", \"All...</td>\n    </tr>\n    <tr>\n      <th>522039</th>\n      <td>540899</td>\n      <td>Butter Pecan Banana Muffins</td>\n      <td>1827868</td>\n      <td>jarp4</td>\n      <td>PT18M</td>\n      <td>PT10M</td>\n      <td>PT28M</td>\n      <td>2020-09-01T20:59:00Z</td>\n      <td>Make and share this Butter Pecan Banana Muffin...</td>\n      <td>No Data Provide</td>\n      <td>...</td>\n      <td>1.7</td>\n      <td>17.2</td>\n      <td>253.0</td>\n      <td>28.9</td>\n      <td>1.6</td>\n      <td>15.8</td>\n      <td>3.3</td>\n      <td>12.0</td>\n      <td>12 Muffins</td>\n      <td>c(\"Heat oven to 375 degrees. Coat a standard 1...</td>\n    </tr>\n  </tbody>\n</table>\n<p>28014 rows × 28 columns</p>\n</div>"
     },
     "execution_count": 16,
     "metadata": {},
     "output_type": "execute_result"
    }
   ],
   "source": [
    "cleaned_images = []\n",
    "for value in cleaned_data['Images']:\n",
    "    # Convert value to string\n",
    "    value_str = str(value)\n",
    "    # Remove leading and trailing whitespace\n",
    "    value_str = value_str.strip()\n",
    "    # Replace 'character(0)' with None\n",
    "    value_str = value_str.replace('character(0)', 'No Data Provide')\n",
    "    # Extract th first URL from the string if it starts with 'c(\"'\n",
    "    if value_str.startswith('c(\"'):\n",
    "        first_url = value_str.split('\", \"')[0][3:].strip('\"')\n",
    "        value_str = first_url\n",
    "    else:\n",
    "        value_str = \"No Data Provide\"\n",
    "    cleaned_images.append(value_str)\n",
    "cleaned_data['Images'] = cleaned_images\n",
    "df_recipe = cleaned_data.dropna()\n",
    "df_recipe"
   ],
   "metadata": {
    "collapsed": false,
    "ExecuteTime": {
     "end_time": "2024-03-18T04:04:45.189947Z",
     "start_time": "2024-03-18T04:04:44.447639Z"
    }
   },
   "id": "e1b273ddeddbc2"
  },
  {
   "cell_type": "code",
   "execution_count": 17,
   "outputs": [
    {
     "name": "stdout",
     "output_type": "stream",
     "text": [
      "Uses Column Index(['Name', 'PrepTime', 'Description', 'Images', 'RecipeIngredientParts',\n",
      "       'RecipeInstructions'],\n",
      "      dtype='object')\n",
      "Cleaned data success\n",
      "Save cleaned data success\n"
     ]
    }
   ],
   "source": [
    "import string\n",
    "import numpy as np\n",
    "\n",
    "def get_and_clean_data_sample(data):\n",
    "    # Drop specified columns\n",
    "    data = data.drop(columns=['RecipeId', 'AuthorId', 'Keywords', 'CookTime', 'AuthorName', 'TotalTime', 'DatePublished',\n",
    "                              'RecipeIngredientQuantities', 'AggregatedRating', 'ReviewCount', 'Calories', 'FatContent',\n",
    "                              'SaturatedFatContent', 'CholesterolContent', 'SodiumContent', 'CarbohydrateContent', 'FiberContent',\n",
    "                              'SugarContent', 'ProteinContent', 'RecipeServings', 'RecipeYield', 'RecipeCategory'])\n",
    "\n",
    "    print(\"Uses Column\", data.columns)\n",
    "    \n",
    "    # Correct handling for specific columns\n",
    "    if 'RecipeInstructions' in data.columns:\n",
    "        data['RecipeInstructions'] = data['RecipeInstructions'].apply(lambda s: s.lstrip('c'))\n",
    "    if 'RecipeIngredientParts' in data.columns:\n",
    "        data['RecipeIngredientParts'] = data['RecipeIngredientParts'].apply(lambda s: s.lstrip('c'))\n",
    "\n",
    "    excluded_columns = ['Images']\n",
    "    for column in data.columns:\n",
    "        if column not in excluded_columns:\n",
    "            data[column] = data[column].astype(str).apply(lambda s: s.translate(str.maketrans('', '', string.punctuation + '\\xa0')).lower())\n",
    "            data[column] = data[column].apply(lambda s: ' '.join(s.split()))\n",
    "\n",
    "    print(\"Cleaned data success\")\n",
    "    try:\n",
    "        data.to_csv('./assets/final_recipes.csv')\n",
    "        print(\"Save cleaned data success\")\n",
    "    except Exception as e:\n",
    "        print(f\"Error saving data: {e}\")\n",
    "\n",
    "    return data\n",
    "\n",
    "cleaned_data = get_and_clean_data_sample(df_recipe)"
   ],
   "metadata": {
    "collapsed": false,
    "ExecuteTime": {
     "end_time": "2024-03-18T04:04:51.224097Z",
     "start_time": "2024-03-18T04:04:49.877736Z"
    }
   },
   "id": "2b43957f0ee08bb5"
  },
  {
   "cell_type": "code",
   "execution_count": 18,
   "outputs": [
    {
     "data": {
      "text/plain": "(28014, 6)"
     },
     "execution_count": 18,
     "metadata": {},
     "output_type": "execute_result"
    }
   ],
   "source": [
    "cleaned_data.shape"
   ],
   "metadata": {
    "collapsed": false,
    "ExecuteTime": {
     "end_time": "2024-03-18T04:04:53.833628Z",
     "start_time": "2024-03-18T04:04:53.827749Z"
    }
   },
   "id": "6440da524e94cc87"
  },
  {
   "cell_type": "code",
   "execution_count": 19,
   "outputs": [
    {
     "data": {
      "text/plain": "                                       Name PrepTime  \\\n3              carinas tofuvegetable kebabs    pt24h   \n5                      best blackbottom pie    pt20m   \n16                              carrot cake    pt45m   \n26                        almond pound cake    pt15m   \n54                    blueberry buttertarts    pt15m   \n...                                     ...      ...   \n520596  pork tenderloin with bacononion jam    pt20m   \n520760    thai basil chicken gai pad krapow     pt3m   \n521132        green enchiladas chicken soup    pt10m   \n521418                keto kings best bread     pt3h   \n522039          butter pecan banana muffins    pt10m   \n\n                                              Description  \\\n3       this dish is best prepared a day in advance to...   \n5       make and share this best blackbottom pie recip...   \n16      this is one of the few recipes my husband ever...   \n26      make and share this almond pound cake recipe f...   \n54      make and share this blueberry buttertarts reci...   \n...                                                   ...   \n520596  saw this on foodnetworkcom and knew i had to s...   \n520760  make and share this thai basil chicken gai pad...   \n521132  make and share this green enchiladas chicken s...   \n521418  make and share this keto kings best bread reci...   \n522039  make and share this butter pecan banana muffin...   \n\n                                                   Images  \\\n3       https://img.sndimg.com/food/image/upload/w_555...   \n5                                         No Data Provide   \n16      https://img.sndimg.com/food/image/upload/w_555...   \n26                                        No Data Provide   \n54                                        No Data Provide   \n...                                                   ...   \n520596  https://img.sndimg.com/food/image/upload/w_555...   \n520760                                    No Data Provide   \n521132                                    No Data Provide   \n521418  https://img.sndimg.com/food/image/upload/w_555...   \n522039                                    No Data Provide   \n\n                                    RecipeIngredientParts  \\\n3       extra firm tofu eggplant zucchini mushrooms so...   \n5       graham cracker crumbs sugar butter sugar corns...   \n16      carrots eggs white sugar allpurpose flour baki...   \n26      butter almond paste sugar eggs flour cornstarc...   \n54      egg corn syrup lemon juice vanilla brown sugar...   \n...                                                   ...   \n520596  olive oil red onion bacon fresh thyme brown su...   \n520760  shallots garlic cloves ground chicken sugar so...   \n521132  boneless skinless chicken breasts chicken brot...   \n521418  flax seed meal vital wheat gluten xanthan gum ...   \n522039  pecans unsalted butter allpurpose flour baking...   \n\n                                       RecipeInstructions  \n3       drain the tofu carefully squeezing out excess ...  \n5       graham cracker crust in small bowl combine gra...  \n16      beat together the eggs oil and white sugar ble...  \n26      preheat oven to 350 degrees fahrenheit cream b...  \n54      preheat oven to 375f leave shells in foil cups...  \n...                                                   ...  \n520596  for the bacononion jam heat the oil in a casti...  \n520760  in a wok over high heat add the oil chilies sh...  \n521132  in a 6 quart slow cooker add chicken breast gr...  \n521418  combine yeast honey and warm water allow to bl...  \n522039  heat oven to 375 degrees coat a standard 12cup...  \n\n[28014 rows x 6 columns]",
      "text/html": "<div>\n<style scoped>\n    .dataframe tbody tr th:only-of-type {\n        vertical-align: middle;\n    }\n\n    .dataframe tbody tr th {\n        vertical-align: top;\n    }\n\n    .dataframe thead th {\n        text-align: right;\n    }\n</style>\n<table border=\"1\" class=\"dataframe\">\n  <thead>\n    <tr style=\"text-align: right;\">\n      <th></th>\n      <th>Name</th>\n      <th>PrepTime</th>\n      <th>Description</th>\n      <th>Images</th>\n      <th>RecipeIngredientParts</th>\n      <th>RecipeInstructions</th>\n    </tr>\n  </thead>\n  <tbody>\n    <tr>\n      <th>3</th>\n      <td>carinas tofuvegetable kebabs</td>\n      <td>pt24h</td>\n      <td>this dish is best prepared a day in advance to...</td>\n      <td>https://img.sndimg.com/food/image/upload/w_555...</td>\n      <td>extra firm tofu eggplant zucchini mushrooms so...</td>\n      <td>drain the tofu carefully squeezing out excess ...</td>\n    </tr>\n    <tr>\n      <th>5</th>\n      <td>best blackbottom pie</td>\n      <td>pt20m</td>\n      <td>make and share this best blackbottom pie recip...</td>\n      <td>No Data Provide</td>\n      <td>graham cracker crumbs sugar butter sugar corns...</td>\n      <td>graham cracker crust in small bowl combine gra...</td>\n    </tr>\n    <tr>\n      <th>16</th>\n      <td>carrot cake</td>\n      <td>pt45m</td>\n      <td>this is one of the few recipes my husband ever...</td>\n      <td>https://img.sndimg.com/food/image/upload/w_555...</td>\n      <td>carrots eggs white sugar allpurpose flour baki...</td>\n      <td>beat together the eggs oil and white sugar ble...</td>\n    </tr>\n    <tr>\n      <th>26</th>\n      <td>almond pound cake</td>\n      <td>pt15m</td>\n      <td>make and share this almond pound cake recipe f...</td>\n      <td>No Data Provide</td>\n      <td>butter almond paste sugar eggs flour cornstarc...</td>\n      <td>preheat oven to 350 degrees fahrenheit cream b...</td>\n    </tr>\n    <tr>\n      <th>54</th>\n      <td>blueberry buttertarts</td>\n      <td>pt15m</td>\n      <td>make and share this blueberry buttertarts reci...</td>\n      <td>No Data Provide</td>\n      <td>egg corn syrup lemon juice vanilla brown sugar...</td>\n      <td>preheat oven to 375f leave shells in foil cups...</td>\n    </tr>\n    <tr>\n      <th>...</th>\n      <td>...</td>\n      <td>...</td>\n      <td>...</td>\n      <td>...</td>\n      <td>...</td>\n      <td>...</td>\n    </tr>\n    <tr>\n      <th>520596</th>\n      <td>pork tenderloin with bacononion jam</td>\n      <td>pt20m</td>\n      <td>saw this on foodnetworkcom and knew i had to s...</td>\n      <td>https://img.sndimg.com/food/image/upload/w_555...</td>\n      <td>olive oil red onion bacon fresh thyme brown su...</td>\n      <td>for the bacononion jam heat the oil in a casti...</td>\n    </tr>\n    <tr>\n      <th>520760</th>\n      <td>thai basil chicken gai pad krapow</td>\n      <td>pt3m</td>\n      <td>make and share this thai basil chicken gai pad...</td>\n      <td>No Data Provide</td>\n      <td>shallots garlic cloves ground chicken sugar so...</td>\n      <td>in a wok over high heat add the oil chilies sh...</td>\n    </tr>\n    <tr>\n      <th>521132</th>\n      <td>green enchiladas chicken soup</td>\n      <td>pt10m</td>\n      <td>make and share this green enchiladas chicken s...</td>\n      <td>No Data Provide</td>\n      <td>boneless skinless chicken breasts chicken brot...</td>\n      <td>in a 6 quart slow cooker add chicken breast gr...</td>\n    </tr>\n    <tr>\n      <th>521418</th>\n      <td>keto kings best bread</td>\n      <td>pt3h</td>\n      <td>make and share this keto kings best bread reci...</td>\n      <td>https://img.sndimg.com/food/image/upload/w_555...</td>\n      <td>flax seed meal vital wheat gluten xanthan gum ...</td>\n      <td>combine yeast honey and warm water allow to bl...</td>\n    </tr>\n    <tr>\n      <th>522039</th>\n      <td>butter pecan banana muffins</td>\n      <td>pt10m</td>\n      <td>make and share this butter pecan banana muffin...</td>\n      <td>No Data Provide</td>\n      <td>pecans unsalted butter allpurpose flour baking...</td>\n      <td>heat oven to 375 degrees coat a standard 12cup...</td>\n    </tr>\n  </tbody>\n</table>\n<p>28014 rows × 6 columns</p>\n</div>"
     },
     "execution_count": 19,
     "metadata": {},
     "output_type": "execute_result"
    }
   ],
   "source": [
    "cleaned_data"
   ],
   "metadata": {
    "collapsed": false,
    "ExecuteTime": {
     "end_time": "2024-03-18T04:15:20.506067Z",
     "start_time": "2024-03-18T04:15:20.481220Z"
    }
   },
   "id": "8fc8c84aeaa4d02b"
  },
  {
   "cell_type": "markdown",
   "source": [
    "spell checker"
   ],
   "metadata": {
    "collapsed": false
   },
   "id": "df06747390ae7929"
  },
  {
   "cell_type": "code",
   "execution_count": 60,
   "outputs": [
    {
     "name": "stdout",
     "output_type": "stream",
     "text": [
      "love\n",
      "{'lee', 'hoe', 'aloe', 'lob', 'loo', 'lop', 'low', 'lot', 'lobe', 'lose', 'lope', 'doe', 'lye', 'voe', 'lode', 'roe', 'loge', 'woe', 'foe', 'floe', 'lox', 'sloe', 'toe', 'lore', 'lone', 'lo', 'lie', 'love', 'log'}\n"
     ]
    }
   ],
   "source": [
    "from spellchecker import SpellChecker\n",
    "\n",
    "spell = SpellChecker()\n",
    "\n",
    "misspelled = spell.unknown(['something', 'is', 'loe', 'here'])\n",
    "\n",
    "for word in misspelled:\n",
    "    # Get the one `most likely` answer\n",
    "    print(spell.correction(word))\n",
    "\n",
    "    # Get a list of `likely` options\n",
    "    print(spell.candidates(word))"
   ],
   "metadata": {
    "collapsed": false,
    "ExecuteTime": {
     "start_time": "2024-03-12T15:31:21.803621Z"
    }
   },
   "id": "95a49df1304c4e0b"
  },
  {
   "cell_type": "code",
   "execution_count": null,
   "outputs": [],
   "source": [],
   "metadata": {
    "collapsed": false
   },
   "id": "3740c61ee69c4cab"
  }
 ],
 "metadata": {
  "kernelspec": {
   "display_name": "Python 3",
   "language": "python",
   "name": "python3"
  },
  "language_info": {
   "codemirror_mode": {
    "name": "ipython",
    "version": 2
   },
   "file_extension": ".py",
   "mimetype": "text/x-python",
   "name": "python",
   "nbconvert_exporter": "python",
   "pygments_lexer": "ipython2",
   "version": "2.7.6"
  }
 },
 "nbformat": 4,
 "nbformat_minor": 5
}
